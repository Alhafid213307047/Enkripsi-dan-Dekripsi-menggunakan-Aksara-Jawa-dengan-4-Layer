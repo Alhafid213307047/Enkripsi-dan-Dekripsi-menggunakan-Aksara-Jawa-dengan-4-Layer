aksara_jawa = {
    'a': 'ꦄ', 'b': 'ꦧ', 'c': 'ꦕ', 'd': 'ꦢ', 'e': 'ꦌ', 'f': 'ꦥ',
    'g': 'ꦒ', 'h': 'ꦲ', 'i': 'ꦆ', 'j': 'ꦗ', 'k': 'ꦏ', 'l': 'ꦭ',
    'm': 'ꦩ', 'n': 'ꦤ', 'o': 'ꦎ', 'p': 'ꦥ', 'q': 'ꦂ', 'r': 'ꦫ',
    's': 'ꦱ', 't': 'ꦠ', 'u': 'ꦈ', 'v': 'ꦮ', 'w': 'ꦮ', 'x': 'ꦲ',
    'y': 'ꦪ', 'z': 'ꦗ',
    'A': 'ꦄ', 'B': 'ꦧ', 'C': 'ꦕ', 'D': 'ꦢ', 'E': 'ꦌ', 'F': 'ꦥ',
    'G': 'ꦒ', 'H': 'ꦲ', 'I': 'ꦆ', 'J': 'ꦗ', 'K': 'ꦏ', 'L': 'ꦭ',
    'M': 'ꦩ', 'N': 'ꦤ', 'O': 'ꦎ', 'P': 'ꦥ', 'Q': 'ꦂ', 'R': 'ꦫ',
    'S': 'ꦱ', 'T': 'ꦠ', 'U': 'ꦈ', 'V': 'ꦮ', 'W': 'ꦮ', 'X': 'ꦲ',
    'Y': 'ꦪ', 'Z': 'ꦗ',
}

def enkripsi_aksara_jawa(teks):
    # Layer 1: Pergeseran karakter
    teks_shifted = ''
    for c in teks:
        if c.lower() in aksara_jawa:
            aksara_index = (ord(c.lower()) - ord('a') + 4) % 26
            if c.isupper():
                teks_shifted += aksara_jawa[chr(ord('A') + aksara_index)].upper()
            else:
                teks_shifted += aksara_jawa[chr(ord('a') + aksara_index)]
        else:
            teks_shifted += c

    # Layer 2: Pembalikan teks
    teks_shifted = teks_shifted[::-1]

    # Layer 3: Pemisahan huruf dengan spasi
    teks_shifted = ' '.join(teks_shifted)

    # Layer 4: Penambahan aksara khusus di akhir
    teks_shifted += 'ꦆꦃ'

    return teks_shifted


def deskripsi_aksara_jawa(teks):
    # Layer 4: Penghapusan aksara khusus di akhir
    teks = teks.rstrip('ꦆꦃ')

   # Layer 3: Pemisahan huruf dengan spasi
    teks = teks.split()

    # Layer 2: Pembalikan teks kembali ke posisi semula
    teks = teks[::1]

    # Layer 1: Mengembalikan huruf-huruf ke abjad Latin
    aksara_jawa_reverse = {v: k for k, v in aksara_jawa.items()}
    teks_decrypted = ''
    for c in teks:
        if c in aksara_jawa_reverse:
            aksara_index = (list(aksara_jawa_reverse.keys()).index(c) - 4) % len(aksara_jawa_reverse)
            if c.isupper():
                teks_decrypted += aksara_jawa_reverse[list(aksara_jawa_reverse.keys())[aksara_index]].upper()
            else:
                teks_decrypted += aksara_jawa_reverse[list(aksara_jawa_reverse.keys())[aksara_index]]
        else:
            teks_decrypted += c + ' '

    return teks_decrypted.strip()

# Proses input dari enkripsi
teks_input = input("Masukkan teks yang akan dienkripsi ke aksara Jawa: ")
hasil_enkripsi = enkripsi_aksara_jawa(teks_input)
print("Teks setelah dienkripsi:", hasil_enkripsi)

# Proses dekripsi
teks_dekripsi = hasil_enkripsi
hasil_deskripsi = deskripsi_aksara_jawa(teks_input)
print("Teks setelah dideskripsi:", hasil_deskripsi)
