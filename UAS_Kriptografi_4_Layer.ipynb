{
  "nbformat": 4,
  "nbformat_minor": 0,
  "metadata": {
    "colab": {
      "provenance": []
    },
    "kernelspec": {
      "name": "python3",
      "display_name": "Python 3"
    },
    "language_info": {
      "name": "python"
    }
  },
  "cells": [
    {
      "cell_type": "code",
      "execution_count": 23,
      "metadata": {
        "colab": {
          "base_uri": "https://localhost:8080/"
        },
        "id": "5OJ83xKz7y71",
        "outputId": "73fb5c9c-ec73-4c49-b71b-99a2583d4132"
      },
      "outputs": [
        {
          "output_type": "stream",
          "name": "stdout",
          "text": [
            "Masukkan teks yang akan dienkripsi ke aksara Jawa: Tegar cantik banget\n",
            "Teks setelah dienkripsi: ꦲ ꦆ ꦏ ꦫ ꦌ ꦥ   ꦎ ꦩ ꦲ ꦫ ꦌ ꦒ   ꦮ ꦌ ꦏ ꦆ ꦲꦆꦃ\n",
            "Teks setelah dideskripsi: Tegar cantik banget\n"
          ]
        }
      ],
      "source": [
        "aksara_jawa = {\n",
        "    'a': 'ꦄ', 'b': 'ꦧ', 'c': 'ꦕ', 'd': 'ꦢ', 'e': 'ꦌ', 'f': 'ꦥ',\n",
        "    'g': 'ꦒ', 'h': 'ꦲ', 'i': 'ꦆ', 'j': 'ꦗ', 'k': 'ꦏ', 'l': 'ꦭ',\n",
        "    'm': 'ꦩ', 'n': 'ꦤ', 'o': 'ꦎ', 'p': 'ꦥ', 'q': 'ꦂ', 'r': 'ꦫ',\n",
        "    's': 'ꦱ', 't': 'ꦠ', 'u': 'ꦈ', 'v': 'ꦮ', 'w': 'ꦮ', 'x': 'ꦲ',\n",
        "    'y': 'ꦪ', 'z': 'ꦗ',\n",
        "    'A': 'ꦄ', 'B': 'ꦧ', 'C': 'ꦕ', 'D': 'ꦢ', 'E': 'ꦌ', 'F': 'ꦥ',\n",
        "    'G': 'ꦒ', 'H': 'ꦲ', 'I': 'ꦆ', 'J': 'ꦗ', 'K': 'ꦏ', 'L': 'ꦭ',\n",
        "    'M': 'ꦩ', 'N': 'ꦤ', 'O': 'ꦎ', 'P': 'ꦥ', 'Q': 'ꦂ', 'R': 'ꦫ',\n",
        "    'S': 'ꦱ', 'T': 'ꦠ', 'U': 'ꦈ', 'V': 'ꦮ', 'W': 'ꦮ', 'X': 'ꦲ',\n",
        "    'Y': 'ꦪ', 'Z': 'ꦗ',\n",
        "}\n",
        "\n",
        "def enkripsi_aksara_jawa(teks):\n",
        "    # Layer 1: Pergeseran karakter\n",
        "    teks_shifted = ''\n",
        "    for c in teks:\n",
        "        if c.lower() in aksara_jawa:\n",
        "            aksara_index = (ord(c.lower()) - ord('a') + 4) % 26\n",
        "            if c.isupper():\n",
        "                teks_shifted += aksara_jawa[chr(ord('A') + aksara_index)].upper()\n",
        "            else:\n",
        "                teks_shifted += aksara_jawa[chr(ord('a') + aksara_index)]\n",
        "        else:\n",
        "            teks_shifted += c\n",
        "\n",
        "    # Layer 2: Pembalikan teks\n",
        "    teks_shifted = teks_shifted[::-1]\n",
        "\n",
        "    # Layer 3: Pemisahan huruf dengan spasi\n",
        "    teks_shifted = ' '.join(teks_shifted)\n",
        "\n",
        "    # Layer 4: Penambahan aksara khusus di akhir\n",
        "    teks_shifted += 'ꦆꦃ'\n",
        "\n",
        "    return teks_shifted\n",
        "\n",
        "\n",
        "def deskripsi_aksara_jawa(teks):\n",
        "    # Layer 4: Penghapusan aksara khusus di akhir\n",
        "    teks = teks.rstrip('ꦆꦃ')\n",
        "\n",
        "   # Layer 3: Pemisahan huruf dengan spasi\n",
        "    teks = teks.split()\n",
        "\n",
        "    # Layer 2: Pembalikan teks kembali ke posisi semula\n",
        "    teks = teks[::1]\n",
        "\n",
        "    # Layer 1: Mengembalikan huruf-huruf ke abjad Latin\n",
        "    aksara_jawa_reverse = {v: k for k, v in aksara_jawa.items()}\n",
        "    teks_decrypted = ''\n",
        "    for c in teks:\n",
        "        if c in aksara_jawa_reverse:\n",
        "            aksara_index = (list(aksara_jawa_reverse.keys()).index(c) - 4) % len(aksara_jawa_reverse)\n",
        "            if c.isupper():\n",
        "                teks_decrypted += aksara_jawa_reverse[list(aksara_jawa_reverse.keys())[aksara_index]].upper()\n",
        "            else:\n",
        "                teks_decrypted += aksara_jawa_reverse[list(aksara_jawa_reverse.keys())[aksara_index]]\n",
        "        else:\n",
        "            teks_decrypted += c + ' '\n",
        "\n",
        "    return teks_decrypted.strip()\n",
        "\n",
        "# Proses input dari enkripsi\n",
        "teks_input = input(\"Masukkan teks yang akan dienkripsi ke aksara Jawa: \")\n",
        "hasil_enkripsi = enkripsi_aksara_jawa(teks_input)\n",
        "print(\"Teks setelah dienkripsi:\", hasil_enkripsi)\n",
        "\n",
        "# Proses dekripsi\n",
        "teks_dekripsi = hasil_enkripsi\n",
        "hasil_deskripsi = deskripsi_aksara_jawa(teks_input)\n",
        "print(\"Teks setelah dideskripsi:\", hasil_deskripsi)\n"
      ]
    },
    {
      "cell_type": "code",
      "source": [],
      "metadata": {
        "id": "oY_ZMNVb78f8"
      },
      "execution_count": null,
      "outputs": []
    }
  ]
}